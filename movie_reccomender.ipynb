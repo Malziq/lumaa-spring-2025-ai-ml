{
 "cells": [
  {
   "cell_type": "code",
   "execution_count": 7,
   "id": "initial_id",
   "metadata": {
    "collapsed": true,
    "ExecuteTime": {
     "end_time": "2025-02-24T06:10:23.106001Z",
     "start_time": "2025-02-24T06:10:23.094917Z"
    }
   },
   "outputs": [],
   "source": [
    "\"\"\" Import Pandas and Scikit Learn to process data, and to construct the model \"\"\"\n",
    "\n",
    "import pandas as pd\n",
    "from sklearn.feature_extraction.text import TfidfVectorizer\n",
    "from sklearn.metrics.pairwise import cosine_similarity"
   ]
  },
  {
   "cell_type": "code",
   "outputs": [],
   "source": [
    "\"\"\" Load in the data set \"\"\"\n",
    "\n",
    "file_path = '/Users/mazenalziq/PycharmProject/AI/Lumaa_AI/imdb_top_500.csv'\n",
    "df = pd.read_csv(file_path)"
   ],
   "metadata": {
    "collapsed": false,
    "ExecuteTime": {
     "end_time": "2025-02-24T06:10:23.118390Z",
     "start_time": "2025-02-24T06:10:23.104290Z"
    }
   },
   "id": "12fd6f888663917d",
   "execution_count": 8
  },
  {
   "cell_type": "code",
   "outputs": [],
   "source": [
    "\"\"\" Filter and extract relevant data \"\"\"\n",
    "\n",
    "required_columns = {'Series_Title', 'Overview', 'Genre'}\n",
    "if not required_columns.issubset(df.columns):\n",
    "    raise ValueError(\"Dataset must contain 'Series_Title', 'Overview', and 'Genre' columns.\")\n",
    "df = df[['Series_Title', 'Overview', 'Genre']].dropna()\n",
    "\n",
    "# Rename columns for clarity\n",
    "df.columns = ['title', 'description', 'genre']\n",
    "\n",
    "# Combine description and genre into a single text field\n",
    "df['combined_text'] = df['description'] + \" \" + df['genre']"
   ],
   "metadata": {
    "collapsed": false,
    "ExecuteTime": {
     "end_time": "2025-02-24T06:10:23.122776Z",
     "start_time": "2025-02-24T06:10:23.121241Z"
    }
   },
   "id": "e2c592e08749b0c4",
   "execution_count": 9
  },
  {
   "cell_type": "code",
   "outputs": [],
   "source": [
    "\"\"\" Vectorize text using TF-IDF \"\"\"\n",
    "\n",
    "vectorizer = TfidfVectorizer(stop_words='english')\n",
    "text_vectors = vectorizer.fit_transform(df['description'])"
   ],
   "metadata": {
    "collapsed": false,
    "ExecuteTime": {
     "end_time": "2025-02-24T06:10:23.138429Z",
     "start_time": "2025-02-24T06:10:23.131012Z"
    }
   },
   "id": "3016260a03f710ff",
   "execution_count": 10
  },
  {
   "cell_type": "code",
   "outputs": [],
   "source": [
    "\"\"\" Use cosine similarity to determine movie recommendations \"\"\"\n",
    "\n",
    "def recommend_movies(user_input, top_n=5):\n",
    "    \"\"\"Given a user query, return the top N most similar movies based on description & genre.\"\"\"\n",
    "    user_vector = vectorizer.transform([user_input])\n",
    "    similarities = cosine_similarity(user_vector, text_vectors).flatten()\n",
    "    top_indices = similarities.argsort()[-top_n:][::-1]  # Get top matches\n",
    "    \n",
    "    recommendations = [(df.iloc[i]['title'], df.iloc[i]['genre'], similarities[i] * 100) for i in top_indices]  # Convert to percentage\n",
    "    return recommendations"
   ],
   "metadata": {
    "collapsed": false,
    "ExecuteTime": {
     "end_time": "2025-02-24T06:10:23.142428Z",
     "start_time": "2025-02-24T06:10:23.139996Z"
    }
   },
   "id": "ec9429b64255885",
   "execution_count": 11
  },
  {
   "cell_type": "code",
   "outputs": [
    {
     "name": "stdout",
     "output_type": "stream",
     "text": [
      "\n",
      "Top Movie Recommendations:\n",
      "The Message (Biography, Drama, History): 13.54% similarity\n",
      "Dil Chahta Hai (Comedy, Drama, Romance): 13.24% similarity\n",
      "Gone Girl (Drama, Mystery, Thriller): 12.41% similarity\n",
      "Requiem for a Dream (Drama): 12.36% similarity\n",
      "Togo (Adventure, Biography, Drama): 11.81% similarity\n"
     ]
    }
   ],
   "source": [
    "\"\"\" Get user input/query, display recommendations and accuracy \"\"\"\n",
    "\n",
    "user_query = input(\"Enter a movie preference (description or genre): \")\n",
    "recommendations = recommend_movies(user_query)\n",
    "\n",
    "print(\"\\nTop Movie Recommendations:\")\n",
    "for title, genre, score in recommendations:\n",
    "    print(f\"{title} ({genre}): {score:.2f}% similarity\")"
   ],
   "metadata": {
    "collapsed": false,
    "ExecuteTime": {
     "end_time": "2025-02-24T06:10:33.332832Z",
     "start_time": "2025-02-24T06:10:23.142612Z"
    }
   },
   "id": "34280eacac7a6557",
   "execution_count": 12
  }
 ],
 "metadata": {
  "kernelspec": {
   "display_name": "Python 3",
   "language": "python",
   "name": "python3"
  },
  "language_info": {
   "codemirror_mode": {
    "name": "ipython",
    "version": 2
   },
   "file_extension": ".py",
   "mimetype": "text/x-python",
   "name": "python",
   "nbconvert_exporter": "python",
   "pygments_lexer": "ipython2",
   "version": "2.7.6"
  }
 },
 "nbformat": 4,
 "nbformat_minor": 5
}
